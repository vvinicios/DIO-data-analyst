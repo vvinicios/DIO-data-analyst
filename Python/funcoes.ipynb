{
 "cells": [
  {
   "cell_type": "code",
   "execution_count": 2,
   "metadata": {},
   "outputs": [],
   "source": [
    "# Funções são blocos de códigos que possuem nome (identificador), parâmetros (para definir quais são as entradas que a função necessita). \n",
    "# PARÂMETROS: entradas da função\n",
    "# RETORNO: valores de saida da função"
   ]
  },
  {
   "cell_type": "code",
   "execution_count": 3,
   "metadata": {},
   "outputs": [],
   "source": [
    "# Definindo as funções\n",
    "def exibir_mesagem():\n",
    "    print(\"Olá, mundo!\")\n",
    "\n",
    "def exibir_mesagem_2(nome):\n",
    "    print(f\"Seja bem vindo, {nome}!\")\n",
    "\n",
    "def exibir_mesagem_3(nome=\"Anonimo\"):\n",
    "    print(f\"Seja bem vindo, {nome}!\")"
   ]
  },
  {
   "cell_type": "code",
   "execution_count": 4,
   "metadata": {},
   "outputs": [
    {
     "name": "stdout",
     "output_type": "stream",
     "text": [
      "Olá, mundo!\n"
     ]
    }
   ],
   "source": [
    "# Chamar função 1 - sem nenhum argumento\n",
    "exibir_mesagem()"
   ]
  },
  {
   "cell_type": "code",
   "execution_count": 5,
   "metadata": {},
   "outputs": [
    {
     "name": "stdout",
     "output_type": "stream",
     "text": [
      "Seja bem vindo, Vinicios!\n"
     ]
    }
   ],
   "source": [
    "# Chamar função 2 - definindo argurmento\n",
    "exibir_mesagem_2(nome='Vinicios')"
   ]
  },
  {
   "cell_type": "code",
   "execution_count": 6,
   "metadata": {},
   "outputs": [
    {
     "name": "stdout",
     "output_type": "stream",
     "text": [
      "Seja bem vindo, Anonimo!\n"
     ]
    }
   ],
   "source": [
    "# Chamar função 3 - com parâmetro já declarado\n",
    "exibir_mesagem_3()"
   ]
  },
  {
   "cell_type": "code",
   "execution_count": null,
   "metadata": {},
   "outputs": [],
   "source": [
    "# ARGS e KWARGS\n",
    "# Podemos combinar parâmetros obrigatórios, os valores recebem métodos como tuplas e dicionário respectivamente.\n",
    "\n"
   ]
  }
 ],
 "metadata": {
  "kernelspec": {
   "display_name": "dsfs",
   "language": "python",
   "name": "python3"
  },
  "language_info": {
   "codemirror_mode": {
    "name": "ipython",
    "version": 3
   },
   "file_extension": ".py",
   "mimetype": "text/x-python",
   "name": "python",
   "nbconvert_exporter": "python",
   "pygments_lexer": "ipython3",
   "version": "3.11.5"
  }
 },
 "nbformat": 4,
 "nbformat_minor": 2
}
