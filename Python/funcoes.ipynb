{
 "cells": [
  {
   "cell_type": "code",
   "execution_count": 2,
   "metadata": {},
   "outputs": [],
   "source": [
    "# Funções são blocos de códigos que possuem nome (identificador), parâmetros (para definir quais são as entradas que a função necessita). \n",
    "# PARÂMETROS: entradas da função\n",
    "# RETORNO: valores de saida da função"
   ]
  },
  {
   "cell_type": "code",
   "execution_count": 3,
   "metadata": {},
   "outputs": [],
   "source": [
    "# Definindo as funções\n",
    "def exibir_mesagem():\n",
    "    print(\"Olá, mundo!\")\n",
    "\n",
    "def exibir_mesagem_2(nome):\n",
    "    print(f\"Seja bem vindo, {nome}!\")\n",
    "\n",
    "def exibir_mesagem_3(nome=\"Anonimo\"):\n",
    "    print(f\"Seja bem vindo, {nome}!\")"
   ]
  },
  {
   "cell_type": "code",
   "execution_count": 4,
   "metadata": {},
   "outputs": [
    {
     "name": "stdout",
     "output_type": "stream",
     "text": [
      "Olá, mundo!\n"
     ]
    }
   ],
   "source": [
    "# Chamar função 1 - sem nenhum argumento\n",
    "exibir_mesagem()"
   ]
  },
  {
   "cell_type": "code",
   "execution_count": 5,
   "metadata": {},
   "outputs": [
    {
     "name": "stdout",
     "output_type": "stream",
     "text": [
      "Seja bem vindo, Vinicios!\n"
     ]
    }
   ],
   "source": [
    "# Chamar função 2 - definindo argurmento\n",
    "exibir_mesagem_2(nome='Vinicios')"
   ]
  },
  {
   "cell_type": "code",
   "execution_count": 6,
   "metadata": {},
   "outputs": [
    {
     "name": "stdout",
     "output_type": "stream",
     "text": [
      "Seja bem vindo, Anonimo!\n"
     ]
    }
   ],
   "source": [
    "# Chamar função 3 - com parâmetro já declarado\n",
    "exibir_mesagem_3()"
   ]
  },
  {
   "cell_type": "code",
   "execution_count": 9,
   "metadata": {},
   "outputs": [
    {
     "name": "stdout",
     "output_type": "stream",
     "text": [
      "Terça-feira, 08 de agosto de 2024\n",
      "\n",
      "Zen of Python\n",
      "Beautiful is bettler then ugly\n",
      "\n",
      "Autor: Tim Peters\n",
      "Ano: 1999\n"
     ]
    }
   ],
   "source": [
    "# ARGS e KWARGS\n",
    "# Podemos combinar parâmetros obrigatórios, os valores recebem métodos como tuplas e dicionário respectivamente.\n",
    "\n",
    "def exibir_poemas(data_extenso, *args, **kwargs):\n",
    "    texto = '\\n'.join(args)\n",
    "    meta_dados = '\\n'.join([f'{chave.title()}: {valor}' for chave, valor in kwargs.items()])\n",
    "    mensagem = f'{data_extenso}\\n\\n{texto}\\n\\n{meta_dados}'\n",
    "    print(mensagem)\n",
    "\n",
    "exibir_poemas('Terça-feira, 08 de agosto de 2024', 'Zen of Python', 'Beautiful is bettler then ugly', autor='Tim Peters', ano='1999')"
   ]
  },
  {
   "cell_type": "code",
   "execution_count": 11,
   "metadata": {},
   "outputs": [
    {
     "name": "stdout",
     "output_type": "stream",
     "text": [
      "Ford Ka 2011 ABC-1234 Ford 1.0 gasolina\n"
     ]
    }
   ],
   "source": [
    "# Parâmetros especiais\n",
    "\n",
    "# Possibilidade de passar para função parâmetros com nome (chave e valor) e sem nome (parâmetros posicionais)\n",
    "\n",
    "# def f(pos1, pos2, / pos_ou_chaveValor, *, chaveValor1, chaveValor2):\n",
    "#     print()\n",
    "\n",
    "# Até barra (/) apenas valores\n",
    "\n",
    "# Posição e nomeado\n",
    "def carro(modelo, ano, placa, /, marca, motor, combustivel):\n",
    "    print(modelo, ano, placa, marca, motor, combustivel)\n",
    "\n",
    "carro('Ford Ka', 2011, 'ABC-1234', marca='Ford', motor='1.0', combustivel='gasolina')"
   ]
  },
  {
   "cell_type": "code",
   "execution_count": 13,
   "metadata": {},
   "outputs": [
    {
     "name": "stdout",
     "output_type": "stream",
     "text": [
      "Ford Ka 2011 ABC-1234 Ford 1.0 gasolina\n"
     ]
    }
   ],
   "source": [
    "# keyword only\n",
    "def carro(*, modelo, ano, placa, marca, motor, combustivel):\n",
    "    print(modelo, ano, placa, marca, motor, combustivel)\n",
    "\n",
    "carro(modelo='Ford Ka', ano=2011, placa='ABC-1234', marca='Ford', motor='1.0', combustivel='gasolina')"
   ]
  }
 ],
 "metadata": {
  "kernelspec": {
   "display_name": "dsfs",
   "language": "python",
   "name": "python3"
  },
  "language_info": {
   "codemirror_mode": {
    "name": "ipython",
    "version": 3
   },
   "file_extension": ".py",
   "mimetype": "text/x-python",
   "name": "python",
   "nbconvert_exporter": "python",
   "pygments_lexer": "ipython3",
   "version": "3.11.5"
  }
 },
 "nbformat": 4,
 "nbformat_minor": 2
}
